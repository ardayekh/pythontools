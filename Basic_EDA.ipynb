{
 "cells": [
  {
   "cell_type": "code",
   "execution_count": null,
   "id": "1e791b1d",
   "metadata": {},
   "outputs": [],
   "source": [
    "import pandas as pd\n",
    "from pathlib import Path\n",
    "\n",
    "def explore_data(DS_Path,File_Type='xlsx'):\n",
    "    \n",
    "    #read data and get DS name (assumes DS name is same as file name)\n",
    "    if File_Type == 'xlsx':\n",
    "        df = pd.read_excel(DS_Path)\n",
    "    elif File_Type == 'csv':\n",
    "        df = pd.read_csv(DS_Path)\n",
    "    else:\n",
    "        return(print('File_Type can only be either \"csv\" or \"xlsx\"'))\n",
    "    \n",
    "    DS_Name = str(DS_Path).split('\\\\')[-1]\n",
    "    \n",
    "    #Check dimension of dataset and get quick preview\n",
    "    print('shape of {} is {} rows by {} columns\\n'.format(DS_Name,df.shape[0],df.shape[1]))\n",
    "    print('First 5 rows of {} is as follows \\n{}\\n'.format(DS_Name,df.head(5)),'\\n')\n",
    "\n",
    "    #check column data types in the dataset\n",
    "    print('{} data types are \\n{}\\n'.format(DS_Name,df.dtypes))\n",
    "\n",
    "    #check how many null, NaN or blank values each dataset contains\n",
    "    print('{} contains {} nulls, NaNs or blanks\\n'.format(DS_Name,df.isnull().values.sum()))\n",
    "\n",
    "    #check number of unique values in each column in the dataset\n",
    "    for cols in df.columns:\n",
    "        print('{} contains {} unique values'.format(cols,len(set(list(df[cols])))))\n",
    "        \n",
    "    #check number of duplicated rows if any\n",
    "    print('\\nThere are {} duplicated records in {}\\n'.format(df[df.duplicated()].shape[0],DS_Name))\n",
    "    \n",
    "    #get basic statiscs on dataset\n",
    "    print(df.describe())"
   ]
  },
  {
   "cell_type": "code",
   "execution_count": null,
   "id": "555ea52f",
   "metadata": {},
   "outputs": [],
   "source": [
    "File_Type = 'xlsx'\n",
    "DS_Path = 'C:\\\\Users\\\\Filename.xlsx'\n",
    "explore_data(DS_Path,File_Type)"
   ]
  }
 ],
 "metadata": {
  "kernelspec": {
   "display_name": "Python 3 (ipykernel)",
   "language": "python",
   "name": "python3"
  },
  "language_info": {
   "codemirror_mode": {
    "name": "ipython",
    "version": 3
   },
   "file_extension": ".py",
   "mimetype": "text/x-python",
   "name": "python",
   "nbconvert_exporter": "python",
   "pygments_lexer": "ipython3",
   "version": "3.9.6"
  }
 },
 "nbformat": 4,
 "nbformat_minor": 5
}
